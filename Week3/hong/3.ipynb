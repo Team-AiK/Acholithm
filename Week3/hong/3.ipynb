{
 "cells": [
  {
   "cell_type": "code",
   "execution_count": 1,
   "metadata": {},
   "outputs": [
    {
     "name": "stdout",
     "output_type": "stream",
     "text": [
      "입력 :1 2 3 4 5 6 7 8\n",
      "출력 : ['1', '5', '2', '6', '3', '7', '4', '8']\n"
     ]
    }
   ],
   "source": [
    "def arraySwitch():\n",
    "    string=input(\"입력 :\")\n",
    "    arr=string.split(\" \")\n",
    "    div=int(len(arr)/2)\n",
    "    for i in range(1,int(len(arr)/2)):\n",
    "            arr.insert(1+div,arr[1])\n",
    "            div+=1\n",
    "            del arr[1]\n",
    "    print(\"출력 :\",arr)\n",
    "        \n",
    "arraySwitch()"
   ]
  }
 ],
 "metadata": {
  "kernelspec": {
   "display_name": "Python 3",
   "language": "python",
   "name": "python3"
  },
  "language_info": {
   "codemirror_mode": {
    "name": "ipython",
    "version": 3
   },
   "file_extension": ".py",
   "mimetype": "text/x-python",
   "name": "python",
   "nbconvert_exporter": "python",
   "pygments_lexer": "ipython3",
   "version": "3.5.2"
  }
 },
 "nbformat": 4,
 "nbformat_minor": 2
}
