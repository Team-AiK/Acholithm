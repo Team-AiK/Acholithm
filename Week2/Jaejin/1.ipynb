{
 "cells": [
  {
   "cell_type": "code",
   "execution_count": 49,
   "metadata": {
    "scrolled": false
   },
   "outputs": [
    {
     "name": "stdout",
     "output_type": "stream",
     "text": [
      "4\n",
      "(((())))\n",
      "((()()))\n",
      "((())())\n",
      "((()))()\n",
      "(()(()))\n",
      "(()()())\n",
      "(()())()\n",
      "(())(())\n",
      "(())()()\n",
      "()((()))\n",
      "()(()())\n",
      "()(())()\n",
      "()()(())\n",
      "()()()()\n"
     ]
    }
   ],
   "source": [
    "from operator import eq\n",
    "\n",
    "num = int(input())\n",
    "\n",
    "arr = [0] * num * 2\n",
    "\n",
    "def print_Catalan(arr, arr_size):\n",
    "    string = ''\n",
    "\n",
    "    for i in range(arr_size):\n",
    "        \n",
    "        if eq(arr[i], '('):\n",
    "            string = string + arr[i]\n",
    "        else:\n",
    "            string = string + arr[i]\n",
    "    print(string)\n",
    "\n",
    "def Catalan(arr,arr_size, open_Catalan, close_Catalan):\n",
    "    \n",
    "    if (open_Catalan == 0 and close_Catalan == 0):\n",
    "        print_Catalan(arr,arr_size)\n",
    "        return\n",
    "\n",
    "    \n",
    "    if (open_Catalan > 0 ):\n",
    "        arr[arr_size] = '('\n",
    "        Catalan(arr,arr_size+1, open_Catalan - 1, close_Catalan + 1)\n",
    "    if (close_Catalan > 0):\n",
    "        arr[arr_size] = ')'\n",
    "        Catalan(arr,arr_size+1, open_Catalan, close_Catalan - 1)\n",
    "        \n",
    "    \n",
    "    \n",
    "Catalan(arr,0, num, 0)\n"
   ]
  },
  {
   "cell_type": "code",
   "execution_count": 50,
   "metadata": {},
   "outputs": [
    {
     "name": "stdout",
     "output_type": "stream",
     "text": [
      "4\n",
      "14\n"
     ]
    }
   ],
   "source": [
    "num = int(input())\n",
    "\n",
    "def fac(num):\n",
    "    if num == 1:\n",
    "        return 1\n",
    "    return num*fac(num-1)\n",
    "\n",
    "Catalan_num = fac(2*num) / (fac(num) * fac(num+1))\n",
    "print(int(Catalan_num))"
   ]
  },
  {
   "cell_type": "code",
   "execution_count": null,
   "metadata": {},
   "outputs": [],
   "source": []
  }
 ],
 "metadata": {
  "kernelspec": {
   "display_name": "Python 3",
   "language": "python",
   "name": "python3"
  },
  "language_info": {
   "codemirror_mode": {
    "name": "ipython",
    "version": 3
   },
   "file_extension": ".py",
   "mimetype": "text/x-python",
   "name": "python",
   "nbconvert_exporter": "python",
   "pygments_lexer": "ipython3",
   "version": "3.5.2"
  }
 },
 "nbformat": 4,
 "nbformat_minor": 2
}
