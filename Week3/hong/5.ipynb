{
 "cells": [
  {
   "cell_type": "code",
   "execution_count": 1,
   "metadata": {},
   "outputs": [
    {
     "name": "stdout",
     "output_type": "stream",
     "text": [
      "입력: 1 3 4 5,7\n",
      "[1, '-', 3, '+', 4, '+', 5]\n"
     ]
    }
   ],
   "source": [
    "arr=input(\"입력: \")\n",
    "string=arr.split(\",\")\n",
    "number=string[0].split(\" \")\n",
    "obj=int(string[1])\n",
    "size=len(number)\n",
    "stack=[]\n",
    "\n",
    "def recursive(num,index, result):\n",
    "    if num < 0:\n",
    "        stack.append(-num)        \n",
    "    else :stack.append(num)\n",
    "    result+=num\n",
    "    index+=1\n",
    "    if result == obj:\n",
    "        print(stack)\n",
    "    elif index < size:\n",
    "        stack.append('+')\n",
    "        recursive(int(number[index]),index,result)\n",
    "        stack.pop()\n",
    "        stack.append('-')\n",
    "        recursive(-int(number[index]),index,result)\n",
    "        stack.pop()\n",
    "    stack.pop()\n",
    "    \n",
    "recursive(int(number[0]),0,0)"
   ]
  }
 ],
 "metadata": {
  "kernelspec": {
   "display_name": "Python 3",
   "language": "python",
   "name": "python3"
  },
  "language_info": {
   "codemirror_mode": {
    "name": "ipython",
    "version": 3
   },
   "file_extension": ".py",
   "mimetype": "text/x-python",
   "name": "python",
   "nbconvert_exporter": "python",
   "pygments_lexer": "ipython3",
   "version": "3.5.2"
  }
 },
 "nbformat": 4,
 "nbformat_minor": 2
}
