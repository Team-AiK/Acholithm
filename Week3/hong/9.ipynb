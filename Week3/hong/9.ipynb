{
 "cells": [
  {
   "cell_type": "code",
   "execution_count": 1,
   "metadata": {},
   "outputs": [
    {
     "name": "stdout",
     "output_type": "stream",
     "text": [
      "6\n"
     ]
    }
   ],
   "source": [
    "\n",
    "number=[0,1,6,7,6,1,4,5]\n",
    "obj=0\n",
    "size=len(number)\n",
    "stack=[]\n",
    "count=-1\n",
    "\n",
    "def recursive(num,index, result):\n",
    "    if num < 0:\n",
    "        stack.append(-num)        \n",
    "    else :stack.append(num)\n",
    "    result+=num\n",
    "    index+=1\n",
    "    if result == obj:\n",
    "        addCount()\n",
    "    if index<size:\n",
    "        stack.append('+')\n",
    "        recursive(number[index],index,result)\n",
    "        stack.pop()\n",
    "        stack.append('-')\n",
    "        recursive(-number[index],index,result)\n",
    "        stack.pop()\n",
    "    stack.pop()\n",
    "def addCount():\n",
    "    global count\n",
    "    count+=1\n",
    "    \n",
    "    \n",
    "recursive(number[0],0,0)\n",
    "print(count)"
   ]
  }
 ],
 "metadata": {
  "kernelspec": {
   "display_name": "Python 3",
   "language": "python",
   "name": "python3"
  },
  "language_info": {
   "codemirror_mode": {
    "name": "ipython",
    "version": 3
   },
   "file_extension": ".py",
   "mimetype": "text/x-python",
   "name": "python",
   "nbconvert_exporter": "python",
   "pygments_lexer": "ipython3",
   "version": "3.5.2"
  }
 },
 "nbformat": 4,
 "nbformat_minor": 2
}
