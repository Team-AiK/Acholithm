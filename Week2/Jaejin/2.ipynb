{
 "cells": [
  {
   "cell_type": "code",
   "execution_count": 69,
   "metadata": {},
   "outputs": [
    {
     "name": "stdout",
     "output_type": "stream",
     "text": [
      "7\n"
     ]
    }
   ],
   "source": [
    "import sys\n",
    "arr = [-1, 3, -1, 5]\n",
    "#arr = [-5, -3, -1]\n",
    "#arr = [2, 4, -2, -3, 8]\n",
    "\n",
    "max_num = -sys.maxsize - 1\n",
    "\n",
    "for i in range(1, len(arr)):\n",
    "    if arr[i-1] > 0 and (arr[i-1] + arr[i]) > 0:\n",
    "                    \n",
    "        arr[i] += arr[i-1]\n",
    "\n",
    "    if arr[i] > max_num:    \n",
    "        max_num = arr[i]\n",
    "        \n",
    "print(max_num)"
   ]
  },
  {
   "cell_type": "code",
   "execution_count": 70,
   "metadata": {},
   "outputs": [
    {
     "name": "stdout",
     "output_type": "stream",
     "text": [
      "7\n",
      "[3, -1, 5]\n"
     ]
    }
   ],
   "source": [
    "import sys\n",
    "arr = [-1, 3, -1, 5]\n",
    "#arr = [-5, -3, -1]\n",
    "#arr = [2, 4, -2, -3, 8]\n",
    "\n",
    "max_num = -sys.maxsize - 1\n",
    "\n",
    "arr2 = arr[:]\n",
    "arr_print = []\n",
    "\n",
    "max_num = -sys.maxsize - 1\n",
    "\n",
    "for i in range(1, len(arr)):\n",
    "    if arr[i-1] > 0 and (arr[i-1] + arr[i]) > 0:\n",
    "        \n",
    "        arr_print.append(arr2[i-1])\n",
    "        if(i == len(arr)-1):\n",
    "            arr_print.append(arr2[i])\n",
    "            \n",
    "        arr[i] += arr[i-1]\n",
    "\n",
    "    if arr[i] > max_num:    \n",
    "        max_num = arr[i]\n",
    "        \n",
    "        \n",
    "print(max_num)\n",
    "\n",
    "print(arr_print)"
   ]
  },
  {
   "cell_type": "code",
   "execution_count": null,
   "metadata": {},
   "outputs": [],
   "source": []
  }
 ],
 "metadata": {
  "kernelspec": {
   "display_name": "Python 3",
   "language": "python",
   "name": "python3"
  },
  "language_info": {
   "codemirror_mode": {
    "name": "ipython",
    "version": 3
   },
   "file_extension": ".py",
   "mimetype": "text/x-python",
   "name": "python",
   "nbconvert_exporter": "python",
   "pygments_lexer": "ipython3",
   "version": "3.5.2"
  }
 },
 "nbformat": 4,
 "nbformat_minor": 2
}
