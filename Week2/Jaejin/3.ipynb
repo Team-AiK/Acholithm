{
 "cells": [
  {
   "cell_type": "code",
   "execution_count": 2,
   "metadata": {},
   "outputs": [
    {
     "name": "stdout",
     "output_type": "stream",
     "text": [
      "123456654321\n",
      "True\n"
     ]
    }
   ],
   "source": [
    "num = int(input())\n",
    "\n",
    "temp = num\n",
    "s = 0\n",
    "\n",
    "if num >= 0:\n",
    "    while temp:\n",
    "        s = s*10 + temp%10\n",
    "        temp //= 10\n",
    "\n",
    "print(num == s)"
   ]
  }
 ],
 "metadata": {
  "kernelspec": {
   "display_name": "Python 3",
   "language": "python",
   "name": "python3"
  },
  "language_info": {
   "codemirror_mode": {
    "name": "ipython",
    "version": 3
   },
   "file_extension": ".py",
   "mimetype": "text/x-python",
   "name": "python",
   "nbconvert_exporter": "python",
   "pygments_lexer": "ipython3",
   "version": "3.5.2"
  }
 },
 "nbformat": 4,
 "nbformat_minor": 2
}
