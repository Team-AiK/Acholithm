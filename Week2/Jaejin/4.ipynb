{
 "cells": [
  {
   "cell_type": "markdown",
   "metadata": {},
   "source": [
    "1. DP로 O(N^2)\n",
    "2. 이분탐색 lower bound 이용 O(NlogN)"
   ]
  },
  {
   "cell_type": "code",
   "execution_count": 12,
   "metadata": {},
   "outputs": [
    {
     "name": "stdout",
     "output_type": "stream",
     "text": [
      "6\n"
     ]
    }
   ],
   "source": [
    "import sys\n",
    "\n",
    "#arr = [10,9,0,7,2,5]\n",
    "arr = [0,8,12,2,6,14,9,5,13,3,11,7,15]\n",
    "\n",
    "dp = [1] * len(arr) \n",
    "\n",
    "max_num = -sys.maxsize - 1\n",
    "\n",
    "for i in range(0, len(arr)):\n",
    "    for j in range(0, i+1):\n",
    "        if arr[i] > arr[j]:\n",
    "            if(dp[i] <= dp[j]):\n",
    "                dp[i] = dp[j] + 1\n",
    "                if dp[i] > max_num:\n",
    "                    max_num = dp[i]\n",
    "        \n",
    "print(max_num)"
   ]
  },
  {
   "cell_type": "code",
   "execution_count": 32,
   "metadata": {},
   "outputs": [
    {
     "name": "stdout",
     "output_type": "stream",
     "text": [
      "6\n",
      "[0, 2, 3, 7, 11, 15]\n"
     ]
    }
   ],
   "source": [
    "import sys\n",
    "import bisect\n",
    "\n",
    "#arr = [10,9,0,7,2,5]\n",
    "arr = [0,8,12,2,6,14,9,5,13,3,11,7,15]\n",
    "\n",
    "dp = [sys.maxsize] * len(arr) \n",
    "lower_bound = []\n",
    "\n",
    "for i in range(0, len(arr)):\n",
    "    if i == 0 :\n",
    "        lower_bound.append(arr[0])\n",
    "    j = bisect.bisect_left(lower_bound,arr[i])\n",
    "    if len(lower_bound)-1 < j:\n",
    "        lower_bound.append(arr[i])\n",
    "    else:\n",
    "        lower_bound[j] = arr[i]\n",
    "    \n",
    "    \n",
    "    \n",
    "\n",
    "print(len(lower_bound))\n",
    "print(lower_bound)"
   ]
  },
  {
   "cell_type": "code",
   "execution_count": null,
   "metadata": {},
   "outputs": [],
   "source": []
  }
 ],
 "metadata": {
  "kernelspec": {
   "display_name": "Python 3",
   "language": "python",
   "name": "python3"
  },
  "language_info": {
   "codemirror_mode": {
    "name": "ipython",
    "version": 3
   },
   "file_extension": ".py",
   "mimetype": "text/x-python",
   "name": "python",
   "nbconvert_exporter": "python",
   "pygments_lexer": "ipython3",
   "version": "3.5.2"
  }
 },
 "nbformat": 4,
 "nbformat_minor": 2
}
